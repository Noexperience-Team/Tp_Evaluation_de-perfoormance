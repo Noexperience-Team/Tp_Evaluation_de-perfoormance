{
 "cells": [
  {
   "cell_type": "code",
   "execution_count": 92,
   "metadata": {},
   "outputs": [],
   "source": [
    "\n",
    "import random\n",
    "\n",
    "import matplotlib.pyplot as plt\n",
    "\n",
    "\n"
   ]
  },
  {
   "cell_type": "code",
   "execution_count": 93,
   "metadata": {},
   "outputs": [],
   "source": [
    "def Xn(t,n):\n",
    "    x=0\n",
    "    for j in t:\n",
    "        x=x+j\n",
    "    return x/n\n"
   ]
  },
  {
   "cell_type": "code",
   "execution_count": null,
   "metadata": {},
   "outputs": [],
   "source": []
  },
  {
   "cell_type": "code",
   "execution_count": 94,
   "metadata": {},
   "outputs": [],
   "source": [
    "def On(t,n,xn):\n",
    "    tita=0\n",
    "    for i in t:\n",
    "        tita=tita+(i-xn)**2\n",
    "    return tita/n\n",
    "    "
   ]
  },
  {
   "cell_type": "code",
   "execution_count": null,
   "metadata": {},
   "outputs": [],
   "source": []
  },
  {
   "cell_type": "code",
   "execution_count": 95,
   "metadata": {},
   "outputs": [],
   "source": [
    "def creat_alea_table(n):\n",
    "    t=[]\n",
    "    for i in range(n+1):\n",
    "        t.append(random.uniform(0, 1))\n",
    "    return t"
   ]
  },
  {
   "cell_type": "code",
   "execution_count": 96,
   "metadata": {},
   "outputs": [
    {
     "data": {
      "image/png": "[encoded data removed]",
      "text/plain": [
       "<Figure size 432x288 with 1 Axes>"
      ]
     },
     "metadata": {
      "needs_background": "light"
     },
     "output_type": "display_data"
    },
    {
     "name": "stdout",
     "output_type": "stream",
     "text": [
      "valeur aleatoire 10 leur moyenne 0.723323633228308 leur variance 0.10013078629788248\n",
      "valeur aleatoire 100 leur moyenne 0.4648353667412208 leur variance 0.08991965952726659\n",
      "valeur aleatoire 1000 leur moyenne 0.48826014564046033 leur variance 0.08632615159231395\n",
      "valeur aleatoire 10000 leur moyenne 0.5009405370221591 leur variance 0.08238344964496588\n"
     ]
    }
   ],
   "source": [
    "n=[10,100,1000,10000]\n",
    "titatable=[]\n",
    "xn=[]\n",
    "for i in n:\n",
    "    t=creat_alea_table(i)\n",
    "    xn.append(Xn(t,i))\n",
    "    titatable.append(On(t,i,Xn(t,i)))\n",
    "    \n",
    "plt.plot(n,titatable,'r*')\n",
    "plt.plot(n,xn,'b*')\n",
    "plt.show()\n",
    "for i in range(len(n)):\n",
    "    print ('valeur aleatoire {} leur moyenne {} leur variance {}'.format(n[i],xn[i],titatable[i]))"
   ]
  },
  {
   "cell_type": "code",
   "execution_count": 97,
   "metadata": {},
   "outputs": [],
   "source": [
    "import numpy as np\n",
    " "
   ]
  },
  {
   "cell_type": "code",
   "execution_count": 108,
   "metadata": {},
   "outputs": [],
   "source": [
    "def creat_alea_table(n,lamda):\n",
    "    t=np.random.exponential(1/lamda,n)\n",
    "    return t"
   ]
  },
  {
   "cell_type": "code",
   "execution_count": 109,
   "metadata": {},
   "outputs": [],
   "source": [
    "def creat_table2(n,lamda):\n",
    "    t=[]\n",
    "    for i in range(n):\n",
    "        t.append(1-math.exp(-1*lamda*i))\n",
    "    return t"
   ]
  },
  {
   "cell_type": "code",
   "execution_count": 110,
   "metadata": {},
   "outputs": [
    {
     "name": "stdout",
     "output_type": "stream",
     "text": [
      "[0.0, 0.9999546000702375, 0.9999999979388464, 0.9999999999999064, 1.0, 1.0, 1.0, 1.0, 1.0, 1.0]\n"
     ]
    }
   ],
   "source": [
    "t=creat_table2(10,10)\n",
    "print(t)"
   ]
  },
  {
   "cell_type": "code",
   "execution_count": 111,
   "metadata": {},
   "outputs": [
    {
     "name": "stdout",
     "output_type": "stream",
     "text": [
      "0.0008999954598008991\n"
     ]
    }
   ],
   "source": [
    "print(Xn(t,10000))"
   ]
  },
  {
   "cell_type": "code",
   "execution_count": 119,
   "metadata": {},
   "outputs": [
    {
     "name": "stdout",
     "output_type": "stream",
     "text": [
      "[[], [], [], []]\n"
     ]
    },
    {
     "name": "stderr",
     "output_type": "stream",
     "text": [
      "/home/bacemabr/anaconda3/envs/chatbot1/lib/python3.6/site-packages/ipykernel_launcher.py:13: MatplotlibDeprecationWarning: Adding an axes using the same arguments as a previous axes currently reuses the earlier instance.  In a future version, a new instance will always be created and returned.  Meanwhile, this warning can be suppressed, and the future behavior ensured, by passing a unique label to each axes instance.\n",
      "  del sys.path[0]\n",
      "/home/bacemabr/anaconda3/envs/chatbot1/lib/python3.6/site-packages/ipykernel_launcher.py:15: MatplotlibDeprecationWarning: Adding an axes using the same arguments as a previous axes currently reuses the earlier instance.  In a future version, a new instance will always be created and returned.  Meanwhile, this warning can be suppressed, and the future behavior ensured, by passing a unique label to each axes instance.\n",
      "  from ipykernel import kernelapp as app\n"
     ]
    },
    {
     "data": {
      "image/png": "[encoded data removed]",
      "text/plain": [
       "<Figure size 432x288 with 2 Axes>"
      ]
     },
     "metadata": {
      "needs_background": "light"
     },
     "output_type": "display_data"
    },
    {
     "name": "stdout",
     "output_type": "stream",
     "text": [
      "les valeurs aleatoires 10 10 leur moyenne [0.12732206051673436] leur variance [0.008360983163375213]\n",
      "les valeurs aleatoires 10 100 leur moyenne [0.012650106595343777] leur variance [0.00010156062279439556]\n",
      "les valeurs aleatoires 10 1000 leur moyenne [0.0010200668380825441] leur variance [5.892171521522762e-07]\n",
      "les valeurs aleatoires 10 10000 leur moyenne [0.00013837476204421275] leur variance [1.6882839856900317e-08]\n",
      "les valeurs aleatoires 100 10 leur moyenne [0.12732206051673436] leur variance [0.008360983163375213]\n",
      "les valeurs aleatoires 100 100 leur moyenne [0.012650106595343777] leur variance [0.00010156062279439556]\n",
      "les valeurs aleatoires 100 1000 leur moyenne [0.0010200668380825441] leur variance [5.892171521522762e-07]\n",
      "les valeurs aleatoires 100 10000 leur moyenne [0.00013837476204421275] leur variance [1.6882839856900317e-08]\n",
      "les valeurs aleatoires 1000 10 leur moyenne [0.12732206051673436] leur variance [0.008360983163375213]\n",
      "les valeurs aleatoires 1000 100 leur moyenne [0.012650106595343777] leur variance [0.00010156062279439556]\n",
      "les valeurs aleatoires 1000 1000 leur moyenne [0.0010200668380825441] leur variance [5.892171521522762e-07]\n",
      "les valeurs aleatoires 1000 10000 leur moyenne [0.00013837476204421275] leur variance [1.6882839856900317e-08]\n",
      "les valeurs aleatoires 10000 10 leur moyenne [0.12732206051673436] leur variance [0.008360983163375213]\n",
      "les valeurs aleatoires 10000 100 leur moyenne [0.012650106595343777] leur variance [0.00010156062279439556]\n",
      "les valeurs aleatoires 10000 1000 leur moyenne [0.0010200668380825441] leur variance [5.892171521522762e-07]\n",
      "les valeurs aleatoires 10000 10000 leur moyenne [0.00013837476204421275] leur variance [1.6882839856900317e-08]\n"
     ]
    }
   ],
   "source": [
    "xn=[[]]*4\n",
    "print(xn)\n",
    "titatable=[[]]*4\n",
    "from ipykernel import kernelapp as app\n",
    "lamda=[10,100,1000,10000]\n",
    "\n",
    "for i in range(4):\n",
    "    for j in range(4):\n",
    "        t=creat_alea_table(n[i],lamda[j])\n",
    "        x=Xn(t,n[i])\n",
    "        xn[j].append([x])\n",
    "        titatable[j].append([On(t,n[i],x)])\n",
    "        plt.subplot(2,2,1)\n",
    "        plt.plot(lamda[j],titatable[i][j],'ro')\n",
    "        plt.subplot(2,2,2)\n",
    "        plt.plot(lamda[j],x,'bo')\n",
    "plt.show()\n",
    "for i in range(4):\n",
    "    for j in range(len(lamda)):\n",
    "        print ('les valeurs aleatoires {} {} leur moyenne {} leur variance {}'.format(n[i],lamda[j],xn[i][j],titatable[i][j]))\n"
   ]
  },
  {
   "cell_type": "code",
   "execution_count": 103,
   "metadata": {},
   "outputs": [
    {
     "name": "stdout",
     "output_type": "stream",
     "text": [
      "[2 5 0 0 1]\n"
     ]
    }
   ],
   "source": [
    "def creat_alea_table(n):\n",
    "    return np.random.randint(0,n+1,n)\n",
    "print(creat_alea_table(5))"
   ]
  },
  {
   "cell_type": "code",
   "execution_count": 104,
   "metadata": {},
   "outputs": [
    {
     "data": {
      "image/png": "[encoded data removed]",
      "text/plain": [
       "<Figure size 432x288 with 2 Axes>"
      ]
     },
     "metadata": {
      "needs_background": "light"
     },
     "output_type": "display_data"
    },
    {
     "name": "stdout",
     "output_type": "stream",
     "text": [
      "valeur aleatoire 10 leur moyenne 4.7 leur variance 13.41\n",
      "valeur aleatoire 100 leur moyenne 53.02 leur variance 814.0795999999998\n",
      "valeur aleatoire 1000 leur moyenne 499.56 leur variance 84749.1564000002\n",
      "valeur aleatoire 10000 leur moyenne 4953.585 leur variance 8313746.837375009\n"
     ]
    }
   ],
   "source": [
    "plt.style.use('seaborn-deep')\n",
    "xn=[]\n",
    "tita=[]\n",
    "for i in n:\n",
    "    t=creat_alea_table(i)\n",
    "    x=Xn(t,i)\n",
    "    xn.append(x)\n",
    "    tita.append(On(t,i,x))\n",
    "plt.subplot(2,2,1)\n",
    "plt.plot(n,tita,'r*')\n",
    "plt.subplot(2,2,2)\n",
    "plt.plot(n,xn,'b*')\n",
    "\n",
    "plt.show()\n",
    "for i in range(len(n)):\n",
    "    print ('valeur aleatoire {} leur moyenne {} leur variance {}'.format(n[i],xn[i],tita[i]))\n"
   ]
  },
  {
   "cell_type": "code",
   "execution_count": 105,
   "metadata": {},
   "outputs": [],
   "source": [
    "def creat_tabe(n):\n",
    "    x=[]\n",
    "    t=np.random.uniform(0, 1,n)\n",
    "    for i in t:\n",
    "        if i<0.3:\n",
    "            x.append(0)\n",
    "        elif i<0.5:\n",
    "            x.append(2)\n",
    "        else:\n",
    "            x.append(6)\n",
    "    return x"
   ]
  },
  {
   "cell_type": "code",
   "execution_count": 106,
   "metadata": {},
   "outputs": [
    {
     "name": "stdout",
     "output_type": "stream",
     "text": [
      "valeur aleatoire 10 leur moyenne 2.0 leur variance 4.8\n",
      "valeur aleatoire 100 leur moyenne 3.12 leur variance 7.305600000000003\n",
      "valeur aleatoire 1000 leur moyenne 3.408 leur variance 7.105535999999953\n",
      "valeur aleatoire 10000 leur moyenne 3.4336 leur variance 7.228791040000765\n"
     ]
    }
   ],
   "source": [
    "xn=[]\n",
    "tita=[]\n",
    "for i in n:\n",
    "    t=creat_tabe(i)\n",
    "    x=Xn(t,i)\n",
    "    xn.append(x)\n",
    "    tita.append(On(t,i,x))\n",
    "for i in range(len(n)):\n",
    "    print ('valeur aleatoire {} leur moyenne {} leur variance {}'.format(n[i],xn[i],tita[i]))\n"
   ]
  },
  {
   "cell_type": "code",
   "execution_count": null,
   "metadata": {},
   "outputs": [],
   "source": []
  }
 ],
 "metadata": {
  "kernelspec": {
   "display_name": "Python 3",
   "language": "python",
   "name": "python3"
  },
  "language_info": {
   "codemirror_mode": {
    "name": "ipython",
    "version": 3
   },
   "file_extension": ".py",
   "mimetype": "text/x-python",
   "name": "python",
   "nbconvert_exporter": "python",
   "pygments_lexer": "ipython3",
   "version": "3.6.9"
  }
 },
 "nbformat": 4,
 "nbformat_minor": 4
}
