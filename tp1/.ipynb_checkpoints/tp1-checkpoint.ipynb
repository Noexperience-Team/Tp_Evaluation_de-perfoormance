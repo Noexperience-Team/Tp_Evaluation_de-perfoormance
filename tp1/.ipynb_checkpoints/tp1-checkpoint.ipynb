{
 "cells": [
  {
   "cell_type": "code",
   "execution_count": 1,
   "metadata": {},
   "outputs": [],
   "source": [
    "\n",
    "import random\n",
    "\n",
    "import matplotlib.pyplot as plt\n",
    "\n",
    "\n"
   ]
  },
  {
   "cell_type": "code",
   "execution_count": 2,
   "metadata": {},
   "outputs": [],
   "source": [
    "def Xn(t,n):\n",
    "    x=0\n",
    "    for j in t:\n",
    "        x=x+j\n",
    "    return x/n\n"
   ]
  },
  {
   "cell_type": "code",
   "execution_count": null,
   "metadata": {},
   "outputs": [],
   "source": []
  },
  {
   "cell_type": "code",
   "execution_count": 3,
   "metadata": {},
   "outputs": [],
   "source": [
    "def On(t,n,xn):\n",
    "    tita=0\n",
    "    for i in t:\n",
    "        tita=tita+(i-xn)**2\n",
    "    return tita/n\n",
    "    "
   ]
  },
  {
   "cell_type": "code",
   "execution_count": null,
   "metadata": {},
   "outputs": [],
   "source": []
  },
  {
   "cell_type": "code",
   "execution_count": 4,
   "metadata": {},
   "outputs": [],
   "source": [
    "def creat_alea_table(n):\n",
    "    t=[]\n",
    "    for i in range(n+1):\n",
    "        t.append(random.uniform(0, 1))\n",
    "    return t"
   ]
  },
  {
   "cell_type": "code",
   "execution_count": 5,
   "metadata": {},
   "outputs": [
    {
     "data": {
      "image/png": "[encoded data removed]",
      "text/plain": [
       "<Figure size 432x288 with 1 Axes>"
      ]
     },
     "metadata": {
      "needs_background": "light"
     },
     "output_type": "display_data"
    },
    {
     "name": "stdout",
     "output_type": "stream",
     "text": [
      "valeur aleatoire 10 leur moyenne 0.528802771982571 leur variance 0.11046099575753236\n",
      "valeur aleatoire 100 leur moyenne 0.5491047407261946 leur variance 0.09303936442092917\n",
      "valeur aleatoire 1000 leur moyenne 0.49628396160628485 leur variance 0.08653817664364143\n",
      "valeur aleatoire 10000 leur moyenne 0.49777494877945 leur variance 0.08280514683407904\n"
     ]
    }
   ],
   "source": [
    "n=[10,100,1000,10000]\n",
    "titatable=[]\n",
    "xn=[]\n",
    "for i in n:\n",
    "    t=creat_alea_table(i)\n",
    "    xn.append(Xn(t,i))\n",
    "    titatable.append(On(t,i,Xn(t,i)))\n",
    "    \n",
    "plt.plot(n,titatable,'r*')\n",
    "plt.plot(n,xn,'b*')\n",
    "plt.show()\n",
    "for i in range(len(n)):\n",
    "    print ('valeur aleatoire {} leur moyenne {} leur variance {}'.format(n[i],xn[i],titatable[i]))"
   ]
  },
  {
   "cell_type": "code",
   "execution_count": 6,
   "metadata": {},
   "outputs": [],
   "source": [
    "import numpy as np\n",
    " "
   ]
  },
  {
   "cell_type": "code",
   "execution_count": 7,
   "metadata": {},
   "outputs": [],
   "source": [
    "def creat_alea_table(n,lamda):\n",
    "    t=np.random.exponential(1/lamda,n)\n",
    "    return t"
   ]
  },
  {
   "cell_type": "code",
   "execution_count": 8,
   "metadata": {},
   "outputs": [],
   "source": [
    "def creat_table2(n,lamda):\n",
    "    t=[]\n",
    "    for i in range(n):\n",
    "        t.append(1-math.exp(-1*lamda*i))\n",
    "    return t"
   ]
  },
  {
   "cell_type": "code",
   "execution_count": 9,
   "metadata": {},
   "outputs": [
    {
     "ename": "NameError",
     "evalue": "name 'math' is not defined",
     "output_type": "error",
     "traceback": [
      "\u001b[0;31m---------------------------------------------------------------------------\u001b[0m",
      "\u001b[0;31mNameError\u001b[0m                                 Traceback (most recent call last)",
      "\u001b[0;32m<ipython-input-9-6235743c829b>\u001b[0m in \u001b[0;36m<module>\u001b[0;34m\u001b[0m\n\u001b[0;32m----> 1\u001b[0;31m \u001b[0mt\u001b[0m\u001b[0;34m=\u001b[0m\u001b[0mcreat_table2\u001b[0m\u001b[0;34m(\u001b[0m\u001b[0;36m10\u001b[0m\u001b[0;34m,\u001b[0m\u001b[0;36m10\u001b[0m\u001b[0;34m)\u001b[0m\u001b[0;34m\u001b[0m\u001b[0;34m\u001b[0m\u001b[0m\n\u001b[0m\u001b[1;32m      2\u001b[0m \u001b[0mprint\u001b[0m\u001b[0;34m(\u001b[0m\u001b[0mt\u001b[0m\u001b[0;34m)\u001b[0m\u001b[0;34m\u001b[0m\u001b[0;34m\u001b[0m\u001b[0m\n",
      "\u001b[0;32m<ipython-input-8-11200ae28107>\u001b[0m in \u001b[0;36mcreat_table2\u001b[0;34m(n, lamda)\u001b[0m\n\u001b[1;32m      2\u001b[0m     \u001b[0mt\u001b[0m\u001b[0;34m=\u001b[0m\u001b[0;34m[\u001b[0m\u001b[0;34m]\u001b[0m\u001b[0;34m\u001b[0m\u001b[0;34m\u001b[0m\u001b[0m\n\u001b[1;32m      3\u001b[0m     \u001b[0;32mfor\u001b[0m \u001b[0mi\u001b[0m \u001b[0;32min\u001b[0m \u001b[0mrange\u001b[0m\u001b[0;34m(\u001b[0m\u001b[0mn\u001b[0m\u001b[0;34m)\u001b[0m\u001b[0;34m:\u001b[0m\u001b[0;34m\u001b[0m\u001b[0;34m\u001b[0m\u001b[0m\n\u001b[0;32m----> 4\u001b[0;31m         \u001b[0mt\u001b[0m\u001b[0;34m.\u001b[0m\u001b[0mappend\u001b[0m\u001b[0;34m(\u001b[0m\u001b[0;36m1\u001b[0m\u001b[0;34m-\u001b[0m\u001b[0mmath\u001b[0m\u001b[0;34m.\u001b[0m\u001b[0mexp\u001b[0m\u001b[0;34m(\u001b[0m\u001b[0;34m-\u001b[0m\u001b[0;36m1\u001b[0m\u001b[0;34m*\u001b[0m\u001b[0mlamda\u001b[0m\u001b[0;34m*\u001b[0m\u001b[0mi\u001b[0m\u001b[0;34m)\u001b[0m\u001b[0;34m)\u001b[0m\u001b[0;34m\u001b[0m\u001b[0;34m\u001b[0m\u001b[0m\n\u001b[0m\u001b[1;32m      5\u001b[0m     \u001b[0;32mreturn\u001b[0m \u001b[0mt\u001b[0m\u001b[0;34m\u001b[0m\u001b[0;34m\u001b[0m\u001b[0m\n",
      "\u001b[0;31mNameError\u001b[0m: name 'math' is not defined"
     ]
    }
   ],
   "source": [
    "t=creat_table2(10,10)\n",
    "print(t)"
   ]
  },
  {
   "cell_type": "code",
   "execution_count": 10,
   "metadata": {},
   "outputs": [
    {
     "name": "stdout",
     "output_type": "stream",
     "text": [
      "0.49777494877945\n"
     ]
    }
   ],
   "source": [
    "print(Xn(t,10000))"
   ]
  },
  {
   "cell_type": "code",
   "execution_count": 35,
   "metadata": {},
   "outputs": [
    {
     "name": "stderr",
     "output_type": "stream",
     "text": [
      "/home/bacemabr/anaconda3/envs/chatbot1/lib/python3.6/site-packages/ipykernel_launcher.py:12: MatplotlibDeprecationWarning: Adding an axes using the same arguments as a previous axes currently reuses the earlier instance.  In a future version, a new instance will always be created and returned.  Meanwhile, this warning can be suppressed, and the future behavior ensured, by passing a unique label to each axes instance.\n",
      "  if sys.path[0] == '':\n",
      "/home/bacemabr/anaconda3/envs/chatbot1/lib/python3.6/site-packages/ipykernel_launcher.py:14: MatplotlibDeprecationWarning: Adding an axes using the same arguments as a previous axes currently reuses the earlier instance.  In a future version, a new instance will always be created and returned.  Meanwhile, this warning can be suppressed, and the future behavior ensured, by passing a unique label to each axes instance.\n",
      "  \n"
     ]
    },
    {
     "data": {
      "image/png": "[encoded data removed]",
      "text/plain": [
       "<Figure size 432x288 with 2 Axes>"
      ]
     },
     "metadata": {
      "needs_background": "light"
     },
     "output_type": "display_data"
    },
    {
     "name": "stdout",
     "output_type": "stream",
     "text": [
      "les valeurs aleatoires 10 10 leur moyenne [0.10488849594481438] leur variance [0.005390359911001065]\n",
      "les valeurs aleatoires 10 100 leur moyenne [0.008552796186421978] leur variance [6.24091112592345e-05]\n",
      "les valeurs aleatoires 10 1000 leur moyenne [0.0014529414421866657] leur variance [2.145221838809382e-06]\n",
      "les valeurs aleatoires 10 10000 leur moyenne [8.440617769422924e-05] leur variance [2.7036259355796335e-09]\n",
      "les valeurs aleatoires 100 10 leur moyenne [0.08413792643059131] leur variance [0.006409818384490887]\n",
      "les valeurs aleatoires 100 100 leur moyenne [0.008773262722121273] leur variance [6.165093927892136e-05]\n",
      "les valeurs aleatoires 100 1000 leur moyenne [0.001039713980709752] leur variance [1.004830554775224e-06]\n",
      "les valeurs aleatoires 100 10000 leur moyenne [0.00010246399949766916] leur variance [9.190707716389645e-09]\n",
      "les valeurs aleatoires 1000 10 leur moyenne [0.10382681785791903] leur variance [0.010226444301773536]\n",
      "les valeurs aleatoires 1000 100 leur moyenne [0.010493014234306038] leur variance [0.00011227076626232403]\n",
      "les valeurs aleatoires 1000 1000 leur moyenne [0.0010084536586729982] leur variance [9.248220590012073e-07]\n",
      "les valeurs aleatoires 1000 10000 leur moyenne [9.836438867897225e-05] leur variance [1.0122144911266904e-08]\n",
      "les valeurs aleatoires 10000 10 leur moyenne [0.09913279624306243] leur variance [0.009975365563327895]\n",
      "les valeurs aleatoires 10000 100 leur moyenne [0.010160310082127495] leur variance [0.00010255024438023195]\n",
      "les valeurs aleatoires 10000 1000 leur moyenne [0.001003506760533094] leur variance [1.023673847283646e-06]\n",
      "les valeurs aleatoires 10000 10000 leur moyenne [0.00010064835573041508] leur variance [1.0180011320712303e-08]\n"
     ]
    }
   ],
   "source": [
    "xn=[[]]*4\n",
    "titatable=[[]]*4\n",
    "from ipykernel import kernelapp as app\n",
    "lamda=[10,100,1000,10000]\n",
    "\n",
    "for i in range(4):\n",
    "    for j in range(4):\n",
    "        t=creat_alea_table(n[i],lamda[j])\n",
    "        x=Xn(t,n[i])\n",
    "        xn[i].append([x])\n",
    "        titatable[i].append([On(t,n[i],x)])\n",
    "        plt.subplot(2,2,1)\n",
    "        plt.plot(lamda[j],titatable[i][j],'ro')\n",
    "        plt.subplot(2,2,2)\n",
    "        plt.plot(lamda[j],x,'bo')\n",
    "plt.show()\n",
    "li=0\n",
    "ni=0\n",
    "ii=0\n",
    "while ii<16:\n",
    "    if li==4:\n",
    "        li=0\n",
    "        ni+=1\n",
    "    print ('les valeurs aleatoires {} {} leur moyenne {} leur variance {}'.format(n[ni],lamda[li],xn[0][ii],titatable[0][ii]))\n",
    "    ii+=1\n",
    "    li+=1\n",
    "    "
   ]
  },
  {
   "cell_type": "code",
   "execution_count": null,
   "metadata": {},
   "outputs": [],
   "source": [
    "def creat_alea_table(n):\n",
    "    return np.random.randint(0,n+1,n)\n",
    "print(creat_alea_table(5))"
   ]
  },
  {
   "cell_type": "code",
   "execution_count": null,
   "metadata": {},
   "outputs": [],
   "source": [
    "plt.style.use('seaborn-deep')\n",
    "xn=[]\n",
    "tita=[]\n",
    "for i in n:\n",
    "    t=creat_alea_table(i)\n",
    "    x=Xn(t,i)\n",
    "    xn.append(x)\n",
    "    tita.append(On(t,i,x))\n",
    "plt.subplot(2,2,1)\n",
    "plt.plot(n,tita,'r*')\n",
    "plt.subplot(2,2,2)\n",
    "plt.plot(n,xn,'b*')\n",
    "\n",
    "plt.show()\n",
    "for i in range(len(n)):\n",
    "    print ('valeur aleatoire {} leur moyenne {} leur variance {}'.format(n[i],xn[i],tita[i]))\n"
   ]
  },
  {
   "cell_type": "code",
   "execution_count": null,
   "metadata": {},
   "outputs": [],
   "source": [
    "def creat_tabe(n):\n",
    "    x=[]\n",
    "    t=np.random.uniform(0, 1,n)\n",
    "    for i in t:\n",
    "        if i<0.3:\n",
    "            x.append(0)\n",
    "        elif i<0.5:\n",
    "            x.append(2)\n",
    "        else:\n",
    "            x.append(6)\n",
    "    return x"
   ]
  },
  {
   "cell_type": "code",
   "execution_count": null,
   "metadata": {},
   "outputs": [],
   "source": [
    "xn=[]\n",
    "tita=[]\n",
    "for i in n:\n",
    "    t=creat_tabe(i)\n",
    "    x=Xn(t,i)\n",
    "    xn.append(x)\n",
    "    tita.append(On(t,i,x))\n",
    "for i in range(len(n)):\n",
    "    print ('valeur aleatoire {} leur moyenne {} leur variance {}'.format(n[i],xn[i],tita[i]))\n"
   ]
  },
  {
   "cell_type": "code",
   "execution_count": null,
   "metadata": {},
   "outputs": [],
   "source": []
  }
 ],
 "metadata": {
  "kernelspec": {
   "display_name": "Python 3",
   "language": "python",
   "name": "python3"
  },
  "language_info": {
   "codemirror_mode": {
    "name": "ipython",
    "version": 3
   },
   "file_extension": ".py",
   "mimetype": "text/x-python",
   "name": "python",
   "nbconvert_exporter": "python",
   "pygments_lexer": "ipython3",
   "version": "3.6.9"
  }
 },
 "nbformat": 4,
 "nbformat_minor": 4
}
