{
 "cells": [
  {
   "cell_type": "code",
   "execution_count": 2,
   "metadata": {},
   "outputs": [],
   "source": [
    "\n",
    "import random\n",
    "\n",
    "import matplotlib.pyplot as plt\n",
    "\n",
    "\n"
   ]
  },
  {
   "cell_type": "code",
   "execution_count": 3,
   "metadata": {},
   "outputs": [],
   "source": [
    "def Xn(t,n):\n",
    "    x=0\n",
    "    for j in t:\n",
    "        x=x+j\n",
    "    return x/n\n"
   ]
  },
  {
   "cell_type": "code",
   "execution_count": null,
   "metadata": {},
   "outputs": [],
   "source": []
  },
  {
   "cell_type": "code",
   "execution_count": 4,
   "metadata": {},
   "outputs": [],
   "source": [
    "def On(t,n,xn):\n",
    "    tita=0\n",
    "    for i in t:\n",
    "        tita=tita+(i-xn)**2\n",
    "    return tita/n\n",
    "    "
   ]
  },
  {
   "cell_type": "code",
   "execution_count": null,
   "metadata": {},
   "outputs": [],
   "source": []
  },
  {
   "cell_type": "code",
   "execution_count": 5,
   "metadata": {},
   "outputs": [],
   "source": [
    "def creat_alea_table(n):\n",
    "    t=[]\n",
    "    for i in range(n+1):\n",
    "        t.append(random.uniform(0, 1))\n",
    "    return t"
   ]
  },
  {
   "cell_type": "code",
   "execution_count": 6,
   "metadata": {},
   "outputs": [
    {
     "data": {
      "image/png": "[encoded data removed]",
      "text/plain": [
       "<Figure size 432x288 with 1 Axes>"
      ]
     },
     "metadata": {
      "needs_background": "light"
     },
     "output_type": "display_data"
    },
    {
     "name": "stdout",
     "output_type": "stream",
     "text": [
      "valeur aleatoire 100 leur moyenne 0.5002799077536276 leur variance 0.08433701275381475\n",
      "valeur aleatoire 1000 leur moyenne 0.5078238972118502 leur variance 0.08492127228594289\n",
      "valeur aleatoire 10000 leur moyenne 0.5018279073468406 leur variance 0.08218638782650257\n",
      "valeur aleatoire 100000 leur moyenne 0.49978293361626247 leur variance 0.08316287632078019\n"
     ]
    }
   ],
   "source": [
    "n=[100,1000,10000,100000]\n",
    "titatable=[]\n",
    "xn=[]\n",
    "for i in n:\n",
    "    t=creat_alea_table(i)\n",
    "    xn.append(Xn(t,i))\n",
    "    titatable.append(On(t,i,Xn(t,i)))\n",
    "    \n",
    "plt.plot(n,titatable,'r*')\n",
    "plt.plot(n,xn,'b*')\n",
    "plt.show()\n",
    "for i in range(len(n)):\n",
    "    print ('valeur aleatoire {} leur moyenne {} leur variance {}'.format(n[i],xn[i],titatable[i]))"
   ]
  },
  {
   "cell_type": "code",
   "execution_count": 7,
   "metadata": {},
   "outputs": [],
   "source": [
    "import numpy as np\n",
    " "
   ]
  },
  {
   "cell_type": "code",
   "execution_count": 8,
   "metadata": {},
   "outputs": [],
   "source": [
    "def creat_alea_table(n,lamda):\n",
    "    t=np.random.exponential(1/lamda,n)\n",
    "    return t"
   ]
  },
  {
   "cell_type": "code",
   "execution_count": 9,
   "metadata": {},
   "outputs": [
    {
     "name": "stdout",
     "output_type": "stream",
     "text": [
      "[0.18645147 0.08991001 0.04910742 ... 0.13124511 0.06791435 0.03536837]\n"
     ]
    }
   ],
   "source": [
    "t=creat_alea_table(10000,10)\n",
    "print(t)"
   ]
  },
  {
   "cell_type": "code",
   "execution_count": 10,
   "metadata": {},
   "outputs": [
    {
     "name": "stdout",
     "output_type": "stream",
     "text": [
      "0.10066549780829559\n"
     ]
    }
   ],
   "source": [
    "print(Xn(t,10000))"
   ]
  },
  {
   "cell_type": "code",
   "execution_count": 11,
   "metadata": {},
   "outputs": [
    {
     "data": {
      "image/png": "[encoded data removed]",
      "text/plain": [
       "<Figure size 432x288 with 1 Axes>"
      ]
     },
     "metadata": {
      "needs_background": "light"
     },
     "output_type": "display_data"
    },
    {
     "name": "stdout",
     "output_type": "stream",
     "text": [
      "les valeurs aleatoires 100 10 leur moyenne 0.09730786779034489 leur variance 0.009102384257401569\n",
      "les valeurs aleatoires 100 20 leur moyenne 0.09730786779034489 leur variance 0.009102384257401569\n",
      "les valeurs aleatoires 100 30 leur moyenne 0.09730786779034489 leur variance 0.009102384257401569\n",
      "les valeurs aleatoires 100 40 leur moyenne 0.09730786779034489 leur variance 0.009102384257401569\n",
      "les valeurs aleatoires 100 50 leur moyenne 0.09730786779034489 leur variance 0.009102384257401569\n",
      "les valeurs aleatoires 1000 10 leur moyenne 0.04400989383525463 leur variance 0.001650993959312304\n",
      "les valeurs aleatoires 1000 20 leur moyenne 0.04400989383525463 leur variance 0.001650993959312304\n",
      "les valeurs aleatoires 1000 30 leur moyenne 0.04400989383525463 leur variance 0.001650993959312304\n",
      "les valeurs aleatoires 1000 40 leur moyenne 0.04400989383525463 leur variance 0.001650993959312304\n",
      "les valeurs aleatoires 1000 50 leur moyenne 0.04400989383525463 leur variance 0.001650993959312304\n",
      "les valeurs aleatoires 10000 10 leur moyenne 0.03777290367534923 leur variance 0.0012007284912151075\n",
      "les valeurs aleatoires 10000 20 leur moyenne 0.03777290367534923 leur variance 0.0012007284912151075\n",
      "les valeurs aleatoires 10000 30 leur moyenne 0.03777290367534923 leur variance 0.0012007284912151075\n",
      "les valeurs aleatoires 10000 40 leur moyenne 0.03777290367534923 leur variance 0.0012007284912151075\n",
      "les valeurs aleatoires 10000 50 leur moyenne 0.03777290367534923 leur variance 0.0012007284912151075\n",
      "les valeurs aleatoires 100000 10 leur moyenne 0.023618581781075516 leur variance 0.0006290860388431423\n",
      "les valeurs aleatoires 100000 20 leur moyenne 0.023618581781075516 leur variance 0.0006290860388431423\n",
      "les valeurs aleatoires 100000 30 leur moyenne 0.023618581781075516 leur variance 0.0006290860388431423\n",
      "les valeurs aleatoires 100000 40 leur moyenne 0.023618581781075516 leur variance 0.0006290860388431423\n",
      "les valeurs aleatoires 100000 50 leur moyenne 0.023618581781075516 leur variance 0.0006290860388431423\n"
     ]
    }
   ],
   "source": [
    "titatable=[]\n",
    "lamda=[10,20,30,40,50]\n",
    "xn=[]\n",
    "for i in n:\n",
    "    for j in lamda:\n",
    "        t=creat_alea_table(i,j)\n",
    "        x=Xn(t,i)\n",
    "        xn.append(x)\n",
    "        titatable.append(On(t,i,x))\n",
    "    plt.plot(i,On(t,i,x),'ro')\n",
    "    plt.plot(i,x,'bo')\n",
    "\n",
    "plt.show()\n",
    "for i in range(len(n)):\n",
    "    for j in range(len(lamda)):\n",
    "        print ('les valeurs aleatoires {} {} leur moyenne {} leur variance {}'.format(n[i],lamda[j],xn[i],titatable[i]))\n"
   ]
  },
  {
   "cell_type": "code",
   "execution_count": 12,
   "metadata": {},
   "outputs": [
    {
     "name": "stdout",
     "output_type": "stream",
     "text": [
      "[5 1 0 3 1]\n"
     ]
    }
   ],
   "source": [
    "def creat_alea_table(n):\n",
    "    return np.random.randint(0,n+1,n)\n",
    "print(creat_alea_table(5))"
   ]
  },
  {
   "cell_type": "code",
   "execution_count": 13,
   "metadata": {},
   "outputs": [
    {
     "data": {
      "image/png": "[encoded data removed]",
      "text/plain": [
       "<Figure size 432x288 with 2 Axes>"
      ]
     },
     "metadata": {
      "needs_background": "light"
     },
     "output_type": "display_data"
    },
    {
     "name": "stdout",
     "output_type": "stream",
     "text": [
      "valeur aleatoire 100 leur moyenne 51.03 leur variance 860.6890999999996\n",
      "valeur aleatoire 1000 leur moyenne 513.117 leur variance 84013.21131100008\n",
      "valeur aleatoire 10000 leur moyenne 5051.329 leur variance 8281633.260759009\n",
      "valeur aleatoire 100000 leur moyenne 50118.98929 leur variance 833020154.3440411\n"
     ]
    }
   ],
   "source": [
    "plt.style.use('seaborn-deep')\n",
    "xn=[]\n",
    "tita=[]\n",
    "for i in n:\n",
    "    t=creat_alea_table(i)\n",
    "    x=Xn(t,i)\n",
    "    xn.append(x)\n",
    "    tita.append(On(t,i,x))\n",
    "plt.subplot(2,2,1)\n",
    "plt.plot(n,tita,'r*')\n",
    "plt.subplot(2,2,2)\n",
    "plt.plot(n,xn,'b*')\n",
    "\n",
    "plt.show()\n",
    "for i in range(len(n)):\n",
    "    print ('valeur aleatoire {} leur moyenne {} leur variance {}'.format(n[i],xn[i],tita[i]))\n"
   ]
  },
  {
   "cell_type": "code",
   "execution_count": 14,
   "metadata": {},
   "outputs": [],
   "source": [
    "def creat_tabe(n):\n",
    "    x=[]\n",
    "    t=np.random.uniform(0, 1,n)\n",
    "    for i in t:\n",
    "        if i<0.3:\n",
    "            x.append(0)\n",
    "        elif i<0.5:\n",
    "            x.append(2)\n",
    "        else:\n",
    "            x.append(6)\n",
    "    return x"
   ]
  },
  {
   "cell_type": "code",
   "execution_count": 15,
   "metadata": {},
   "outputs": [
    {
     "name": "stdout",
     "output_type": "stream",
     "text": [
      "valeur aleatoire 100 leur moyenne 3.64 leur variance 6.990399999999999\n",
      "valeur aleatoire 1000 leur moyenne 3.432 leur variance 7.445376000000028\n",
      "valeur aleatoire 10000 leur moyenne 3.415 leur variance 7.2421749999988\n",
      "valeur aleatoire 100000 leur moyenne 3.40374 leur variance 7.238354012409397\n"
     ]
    }
   ],
   "source": [
    "xn=[]\n",
    "tita=[]\n",
    "for i in n:\n",
    "    t=creat_tabe(i)\n",
    "    x=Xn(t,i)\n",
    "    xn.append(x)\n",
    "    tita.append(On(t,i,x))\n",
    "for i in range(len(n)):\n",
    "    print ('valeur aleatoire {} leur moyenne {} leur variance {}'.format(n[i],xn[i],tita[i]))\n"
   ]
  },
  {
   "cell_type": "code",
   "execution_count": null,
   "metadata": {},
   "outputs": [],
   "source": []
  }
 ],
 "metadata": {
  "kernelspec": {
   "display_name": "Python 3",
   "language": "python",
   "name": "python3"
  },
  "language_info": {
   "codemirror_mode": {
    "name": "ipython",
    "version": 3
   },
   "file_extension": ".py",
   "mimetype": "text/x-python",
   "name": "python",
   "nbconvert_exporter": "python",
   "pygments_lexer": "ipython3",
   "version": "3.6.9"
  }
 },
 "nbformat": 4,
 "nbformat_minor": 4
}
